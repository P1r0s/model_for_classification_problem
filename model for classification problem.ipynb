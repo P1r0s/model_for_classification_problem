{
 "cells": [
  {
   "cell_type": "markdown",
   "metadata": {},
   "source": [
    "# Рекомендация тарифов"
   ]
  },
  {
   "cell_type": "markdown",
   "metadata": {},
   "source": [
    "Оператор мобильной связи выяснил: многие клиенты пользуются архивными тарифами. Они хотят построить систему, способную проанализировать поведение клиентов и предложить пользователям новый тариф: «Смарт» или «Ультра». В нашем распоряжении данные о поведении клиентов, которые уже перешли на новые тарифы. Нужно построить модель для задачи классификации, которая выберет подходящий тариф, для клиентов пользующихся архивными тарифами."
   ]
  },
  {
   "cell_type": "markdown",
   "metadata": {},
   "source": [
    "# Описание данных"
   ]
  },
  {
   "cell_type": "markdown",
   "metadata": {},
   "source": [
    "Каждый объект в наборе данных — это информация о поведении одного пользователя за месяц. Известно:\n",
    "    \n",
    "сalls — количество звонков,\n",
    "\n",
    "minutes — суммарная длительность звонков в минутах,\n",
    "\n",
    "messages — количество sms-сообщений,\n",
    "\n",
    "mb_used — израсходованный интернет-трафик в Мб,\n",
    "\n",
    "is_ultra — каким тарифом пользовался в течение месяца («Ультра» — 1, «Смарт» — 0)."
   ]
  },
  {
   "cell_type": "markdown",
   "metadata": {},
   "source": [
    "## Откройте и изучите файл"
   ]
  },
  {
   "cell_type": "code",
   "execution_count": 1,
   "metadata": {},
   "outputs": [],
   "source": [
    "import pandas as pd\n",
    "from sklearn.model_selection import train_test_split\n",
    "from sklearn.metrics import mean_squared_error\n",
    "from sklearn.tree import DecisionTreeClassifier\n",
    "from sklearn.metrics import accuracy_score\n",
    "from sklearn.ensemble import RandomForestClassifier\n",
    "import numpy as np\n",
    "from sklearn.linear_model import LogisticRegression\n",
    "from sklearn.dummy import DummyClassifier"
   ]
  },
  {
   "cell_type": "code",
   "execution_count": 2,
   "metadata": {},
   "outputs": [],
   "source": [
    "try:\n",
    "    data = pd.read_csv(\"users_behavior.csv\")\n",
    "except:\n",
    "    data = pd.read_csv('/datasets/users_behavior.csv')"
   ]
  },
  {
   "cell_type": "code",
   "execution_count": 3,
   "metadata": {},
   "outputs": [
    {
     "data": {
      "text/html": [
       "<div>\n",
       "<style scoped>\n",
       "    .dataframe tbody tr th:only-of-type {\n",
       "        vertical-align: middle;\n",
       "    }\n",
       "\n",
       "    .dataframe tbody tr th {\n",
       "        vertical-align: top;\n",
       "    }\n",
       "\n",
       "    .dataframe thead th {\n",
       "        text-align: right;\n",
       "    }\n",
       "</style>\n",
       "<table border=\"1\" class=\"dataframe\">\n",
       "  <thead>\n",
       "    <tr style=\"text-align: right;\">\n",
       "      <th></th>\n",
       "      <th>calls</th>\n",
       "      <th>minutes</th>\n",
       "      <th>messages</th>\n",
       "      <th>mb_used</th>\n",
       "      <th>is_ultra</th>\n",
       "    </tr>\n",
       "  </thead>\n",
       "  <tbody>\n",
       "    <tr>\n",
       "      <th>0</th>\n",
       "      <td>40.0</td>\n",
       "      <td>311.90</td>\n",
       "      <td>83.0</td>\n",
       "      <td>19915.42</td>\n",
       "      <td>0</td>\n",
       "    </tr>\n",
       "    <tr>\n",
       "      <th>1</th>\n",
       "      <td>85.0</td>\n",
       "      <td>516.75</td>\n",
       "      <td>56.0</td>\n",
       "      <td>22696.96</td>\n",
       "      <td>0</td>\n",
       "    </tr>\n",
       "    <tr>\n",
       "      <th>2</th>\n",
       "      <td>77.0</td>\n",
       "      <td>467.66</td>\n",
       "      <td>86.0</td>\n",
       "      <td>21060.45</td>\n",
       "      <td>0</td>\n",
       "    </tr>\n",
       "    <tr>\n",
       "      <th>3</th>\n",
       "      <td>106.0</td>\n",
       "      <td>745.53</td>\n",
       "      <td>81.0</td>\n",
       "      <td>8437.39</td>\n",
       "      <td>1</td>\n",
       "    </tr>\n",
       "    <tr>\n",
       "      <th>4</th>\n",
       "      <td>66.0</td>\n",
       "      <td>418.74</td>\n",
       "      <td>1.0</td>\n",
       "      <td>14502.75</td>\n",
       "      <td>0</td>\n",
       "    </tr>\n",
       "  </tbody>\n",
       "</table>\n",
       "</div>"
      ],
      "text/plain": [
       "   calls  minutes  messages   mb_used  is_ultra\n",
       "0   40.0   311.90      83.0  19915.42         0\n",
       "1   85.0   516.75      56.0  22696.96         0\n",
       "2   77.0   467.66      86.0  21060.45         0\n",
       "3  106.0   745.53      81.0   8437.39         1\n",
       "4   66.0   418.74       1.0  14502.75         0"
      ]
     },
     "execution_count": 3,
     "metadata": {},
     "output_type": "execute_result"
    }
   ],
   "source": [
    "data.head()"
   ]
  },
  {
   "cell_type": "code",
   "execution_count": 4,
   "metadata": {
    "scrolled": false
   },
   "outputs": [
    {
     "name": "stdout",
     "output_type": "stream",
     "text": [
      "<class 'pandas.core.frame.DataFrame'>\n",
      "RangeIndex: 3214 entries, 0 to 3213\n",
      "Data columns (total 5 columns):\n",
      " #   Column    Non-Null Count  Dtype  \n",
      "---  ------    --------------  -----  \n",
      " 0   calls     3214 non-null   float64\n",
      " 1   minutes   3214 non-null   float64\n",
      " 2   messages  3214 non-null   float64\n",
      " 3   mb_used   3214 non-null   float64\n",
      " 4   is_ultra  3214 non-null   int64  \n",
      "dtypes: float64(4), int64(1)\n",
      "memory usage: 125.7 KB\n"
     ]
    }
   ],
   "source": [
    "data.info()"
   ]
  },
  {
   "cell_type": "code",
   "execution_count": 5,
   "metadata": {},
   "outputs": [],
   "source": [
    "data['calls'] = data['calls'].astype('int')\n",
    "data['messages'] = data['messages'].astype('int')"
   ]
  },
  {
   "cell_type": "markdown",
   "metadata": {},
   "source": [
    "### Колличество звонков и сообщений не может быть не целое число"
   ]
  },
  {
   "cell_type": "code",
   "execution_count": 6,
   "metadata": {},
   "outputs": [
    {
     "data": {
      "text/plain": [
       "calls       0\n",
       "minutes     0\n",
       "messages    0\n",
       "mb_used     0\n",
       "is_ultra    0\n",
       "dtype: int64"
      ]
     },
     "execution_count": 6,
     "metadata": {},
     "output_type": "execute_result"
    }
   ],
   "source": [
    "data.isna().sum()"
   ]
  },
  {
   "cell_type": "code",
   "execution_count": 7,
   "metadata": {},
   "outputs": [
    {
     "data": {
      "text/plain": [
       "0"
      ]
     },
     "execution_count": 7,
     "metadata": {},
     "output_type": "execute_result"
    }
   ],
   "source": [
    "data.duplicated().sum()"
   ]
  },
  {
   "cell_type": "markdown",
   "metadata": {},
   "source": [
    "### Данные импортированы и проверены, повторов и пропусков нет, столбцы названы корректно, типы колонок \"звонков\" и \"сообщений\" были изменены в соответствии с типом хранящихся в них данных"
   ]
  },
  {
   "cell_type": "markdown",
   "metadata": {},
   "source": [
    "## Разбейте данные на выборки"
   ]
  },
  {
   "cell_type": "markdown",
   "metadata": {},
   "source": [
    "### Разделим набор данных на обучающую (train(60%)), тестовые(test(20%)) и валидационную (validate(20%)) выборки. В random_state положим значение 12345"
   ]
  },
  {
   "cell_type": "code",
   "execution_count": 8,
   "metadata": {},
   "outputs": [],
   "source": [
    "train, validate, test = \\\n",
    "              np.split(data.sample(frac=1, random_state=42), \n",
    "                       [int(.6*len(data)), int(.8*len(data))])"
   ]
  },
  {
   "cell_type": "code",
   "execution_count": 9,
   "metadata": {},
   "outputs": [],
   "source": [
    "features_train = train.drop(['is_ultra'], axis=1)\n",
    "target_train = train['is_ultra']\n",
    "features_valid = validate.drop(['is_ultra'], axis=1)\n",
    "target_valid = validate['is_ultra']\n",
    "test_features = test.drop(['is_ultra'], axis=1)\n",
    "test_target = test['is_ultra']"
   ]
  },
  {
   "cell_type": "code",
   "execution_count": 10,
   "metadata": {},
   "outputs": [
    {
     "data": {
      "text/plain": [
       "((1928, 4), (643, 4), (643, 4))"
      ]
     },
     "execution_count": 10,
     "metadata": {},
     "output_type": "execute_result"
    }
   ],
   "source": [
    "# Код ревьюера\n",
    "features_train.shape, features_valid.shape, test_features.shape"
   ]
  },
  {
   "cell_type": "markdown",
   "metadata": {},
   "source": [
    "## Исследуйте модели"
   ]
  },
  {
   "cell_type": "markdown",
   "metadata": {},
   "source": [
    "### Для начала попробуем модель поэксперементировать с решающим деревом оно подходит для задач классификации"
   ]
  },
  {
   "cell_type": "code",
   "execution_count": 11,
   "metadata": {
    "scrolled": false
   },
   "outputs": [
    {
     "name": "stdout",
     "output_type": "stream",
     "text": [
      "Accuracy лучшей модели: 0.7853810264385692\n"
     ]
    }
   ],
   "source": [
    "best_model = None\n",
    "best_result = 0\n",
    "for depth in range(1, 6):\n",
    "    model_tree = DecisionTreeClassifier(random_state=12345, max_depth=depth)\n",
    "    model_tree.fit(features_train, target_train)\n",
    "    predictions = model_tree.predict(features_valid)\n",
    "    result = accuracy_score(target_valid, predictions)\n",
    "    if result > best_result:\n",
    "        best_model = model_tree\n",
    "        best_result = result\n",
    "print(\"Accuracy лучшей модели:\", best_result)"
   ]
  },
  {
   "cell_type": "markdown",
   "metadata": {},
   "source": [
    "#### Поставим глубину дерева на 10"
   ]
  },
  {
   "cell_type": "code",
   "execution_count": 12,
   "metadata": {
    "scrolled": true
   },
   "outputs": [
    {
     "name": "stdout",
     "output_type": "stream",
     "text": [
      "Точность 0.7916018662519441\n"
     ]
    }
   ],
   "source": [
    "model_tree = DecisionTreeClassifier(random_state=12345, max_depth=10)\n",
    "model_tree.fit(features_train, target_train)\n",
    "predictions = model_tree.predict(features_valid)\n",
    "result = accuracy_score(target_valid, predictions)\n",
    "print('Точность', result)"
   ]
  },
  {
   "cell_type": "markdown",
   "metadata": {},
   "source": [
    "**Лучшая глубина дерева оказалась 10, а лучшая точность 0.791**"
   ]
  },
  {
   "cell_type": "markdown",
   "metadata": {},
   "source": [
    "#### Настроим гиперпараметр criterion с gini на entropy"
   ]
  },
  {
   "cell_type": "code",
   "execution_count": 13,
   "metadata": {},
   "outputs": [
    {
     "name": "stdout",
     "output_type": "stream",
     "text": [
      "Точность 0.7993779160186625\n"
     ]
    }
   ],
   "source": [
    "model_tree = DecisionTreeClassifier(class_weight=None, criterion='entropy', max_depth=depth, random_state=12345, \n",
    "                                    max_features=None, max_leaf_nodes=None, min_impurity_decrease=0.0, \n",
    "                                    min_impurity_split=None, min_samples_leaf=1, min_samples_split=2, \n",
    "                                    min_weight_fraction_leaf=0.0, splitter='best') \n",
    "model_tree.fit(features_train, target_train)\n",
    "predictions = model_tree.predict(features_valid)\n",
    "result = accuracy_score(target_valid, predictions)\n",
    "print('Точность', result)"
   ]
  },
  {
   "cell_type": "markdown",
   "metadata": {},
   "source": [
    "#### Настроим гиперпараметр splitter с best на random"
   ]
  },
  {
   "cell_type": "code",
   "execution_count": 14,
   "metadata": {},
   "outputs": [
    {
     "name": "stdout",
     "output_type": "stream",
     "text": [
      "Точность 0.7916018662519441\n"
     ]
    }
   ],
   "source": [
    "model = DecisionTreeClassifier(class_weight=None, criterion='entropy', max_depth=depth, random_state=12345, \n",
    "                                    max_features=None, max_leaf_nodes=None, min_impurity_decrease=0.0, \n",
    "                                    min_impurity_split=None, min_samples_leaf=1, min_samples_split=2, \n",
    "                                    min_weight_fraction_leaf=0.0, splitter='random') \n",
    "model.fit(features_train, target_train)\n",
    "predictions = model.predict(features_valid)\n",
    "result = accuracy_score(target_valid, predictions)\n",
    "print('Точность', result)"
   ]
  },
  {
   "cell_type": "markdown",
   "metadata": {},
   "source": [
    "### Теперь попробуем случайный лес"
   ]
  },
  {
   "cell_type": "code",
   "execution_count": 15,
   "metadata": {},
   "outputs": [
    {
     "name": "stdout",
     "output_type": "stream",
     "text": [
      "Лучшая количество деревьев 5 Лучшая точность 0.7931570762052877\n"
     ]
    }
   ],
   "source": [
    "best_model = None\n",
    "best_result = 0\n",
    "best_depth = 0\n",
    "\n",
    "for est in range(1, 11):\n",
    "    model_random = RandomForestClassifier(random_state=12345, n_estimators=est)\n",
    "    model_random.fit(features_train, target_train)\n",
    "    result = model_random.score(features_valid, target_valid)\n",
    "    if result > best_result:\n",
    "        best_model = model_random\n",
    "        best_result = result\n",
    "        best_depth = depth\n",
    "\n",
    "print('Лучшая количество деревьев', best_depth,'Лучшая точность', best_result)"
   ]
  },
  {
   "cell_type": "markdown",
   "metadata": {},
   "source": [
    "**Чуть точнее, но не сильно 0.793**"
   ]
  },
  {
   "cell_type": "markdown",
   "metadata": {},
   "source": [
    "#### Настроим колличество деревьев"
   ]
  },
  {
   "cell_type": "code",
   "execution_count": 16,
   "metadata": {},
   "outputs": [
    {
     "name": "stdout",
     "output_type": "stream",
     "text": [
      "Точность 0.8040435458786936\n"
     ]
    }
   ],
   "source": [
    "model_random = RandomForestClassifier(random_state=12345, n_estimators=20)\n",
    "model_random.fit(features_train, target_train)\n",
    "predictions = model_random.predict(features_valid)\n",
    "result = model_random.score(features_valid, target_valid)\n",
    "print('Точность', result)"
   ]
  },
  {
   "cell_type": "markdown",
   "metadata": {},
   "source": [
    "**0.8 уже лучше**"
   ]
  },
  {
   "cell_type": "markdown",
   "metadata": {},
   "source": [
    "#### Настроим гиперпараметр criterion с gini на entropy"
   ]
  },
  {
   "cell_type": "code",
   "execution_count": 17,
   "metadata": {},
   "outputs": [
    {
     "name": "stdout",
     "output_type": "stream",
     "text": [
      "Точность 0.8102643856920684\n"
     ]
    }
   ],
   "source": [
    "model_random = RandomForestClassifier(random_state=12345, n_estimators=20, criterion='entropy')\n",
    "model_random.fit(features_train, target_train)\n",
    "predictions = model_random.predict(features_valid)\n",
    "result = model_random.score(features_valid, target_valid)\n",
    "print('Точность', result)"
   ]
  },
  {
   "cell_type": "markdown",
   "metadata": {},
   "source": [
    "**Идём на повышение**"
   ]
  },
  {
   "cell_type": "markdown",
   "metadata": {},
   "source": [
    "#### Настроим гиперпараметр oob_score с False на True"
   ]
  },
  {
   "cell_type": "code",
   "execution_count": 18,
   "metadata": {
    "scrolled": true
   },
   "outputs": [
    {
     "name": "stdout",
     "output_type": "stream",
     "text": [
      "Точность 0.8102643856920684\n"
     ]
    }
   ],
   "source": [
    "model_random = RandomForestClassifier(random_state=12345, n_estimators=20, criterion='entropy', oob_score=True)\n",
    "model_random.fit(features_train, target_train)\n",
    "predictions = model_random.predict(features_valid)\n",
    "result = model_random.score(features_valid, target_valid)\n",
    "print('Точность', result)"
   ]
  },
  {
   "cell_type": "markdown",
   "metadata": {},
   "source": [
    "### Перейдём к логистической регрессии"
   ]
  },
  {
   "cell_type": "code",
   "execution_count": 19,
   "metadata": {},
   "outputs": [
    {
     "name": "stdout",
     "output_type": "stream",
     "text": [
      "Лучшая количество итерраций 1 Лучшая точность 0.7013996889580093\n"
     ]
    }
   ],
   "source": [
    "best_model = None\n",
    "best_result = 0\n",
    "best_max_iter = 0\n",
    "\n",
    "for max_iter in range(1,50):\n",
    "    model_log = LogisticRegression(random_state=12345, max_iter=1000)\n",
    "    model_log.fit(features_train, target_train)\n",
    "    predictions = model_log.predict(features_valid)\n",
    "    result = model_log.score(features_valid, target_valid)\n",
    "    if result > best_result:\n",
    "        best_model = model_log\n",
    "        best_result = result\n",
    "        best_max_iter = max_iter\n",
    "\n",
    "print('Лучшая количество итерраций', best_max_iter,'Лучшая точность', best_result)        "
   ]
  },
  {
   "cell_type": "markdown",
   "metadata": {},
   "source": [
    "**0.70, не хорошо, посмотрим что получится если покрутить настройки**"
   ]
  },
  {
   "cell_type": "markdown",
   "metadata": {},
   "source": [
    "#### Настроим гиперпараметр multi_class с auto на multinomia"
   ]
  },
  {
   "cell_type": "code",
   "execution_count": 20,
   "metadata": {
    "scrolled": true
   },
   "outputs": [
    {
     "name": "stdout",
     "output_type": "stream",
     "text": [
      "Точность 0.7325038880248833\n"
     ]
    }
   ],
   "source": [
    "model_log = LogisticRegression(random_state=12345, max_iter=1000, multi_class='multinomial')\n",
    "model_log.fit(features_train, target_train)\n",
    "predictions = model_log.predict(features_valid)\n",
    "result = model_log.score(features_valid, target_valid)\n",
    "print('Точность', result)"
   ]
  },
  {
   "cell_type": "markdown",
   "metadata": {},
   "source": [
    "#### Изменим гиперпараметр warm_start на True"
   ]
  },
  {
   "cell_type": "code",
   "execution_count": 21,
   "metadata": {},
   "outputs": [
    {
     "name": "stdout",
     "output_type": "stream",
     "text": [
      "Точность 0.7325038880248833\n"
     ]
    }
   ],
   "source": [
    "model_log = LogisticRegression(random_state=12345, max_iter=1000, multi_class='multinomial', warm_start=True)\n",
    "model_log.fit(features_train, target_train)\n",
    "predictions = model_log.predict(features_valid)\n",
    "result = model_log.score(features_valid, target_valid)\n",
    "print('Точность', result)"
   ]
  },
  {
   "cell_type": "markdown",
   "metadata": {},
   "source": [
    "#### Проверим гипернастройку solver и изменим её на lbfgs"
   ]
  },
  {
   "cell_type": "code",
   "execution_count": 22,
   "metadata": {},
   "outputs": [
    {
     "name": "stdout",
     "output_type": "stream",
     "text": [
      "Точность 0.7325038880248833\n"
     ]
    }
   ],
   "source": [
    "model_log = LogisticRegression(random_state=12345, max_iter=1000, multi_class='multinomial', warm_start=True, solver='lbfgs')\n",
    "model_log.fit(features_train, target_train)\n",
    "predictions = model_log.predict(features_valid)\n",
    "result = model_log.score(features_valid, target_valid)\n",
    "print('Точность', result)"
   ]
  },
  {
   "cell_type": "markdown",
   "metadata": {},
   "source": [
    "### В результате исследования данных были полученые следующие результаты:\n",
    "\n",
    "**Решающие древо - 0.79**\n",
    "\n",
    "**Случайны лес - 0.81**\n",
    "\n",
    "**Логическая регрессия - 0.73**\n",
    "\n",
    "**Случайный лес победил!**"
   ]
  },
  {
   "cell_type": "markdown",
   "metadata": {},
   "source": [
    "## Проверьте модель на тестовой выборке"
   ]
  },
  {
   "cell_type": "markdown",
   "metadata": {},
   "source": [
    "### Применим модель случайного леса на тестовой выборке, что бы убедится."
   ]
  },
  {
   "cell_type": "code",
   "execution_count": 23,
   "metadata": {
    "scrolled": true
   },
   "outputs": [
    {
     "name": "stdout",
     "output_type": "stream",
     "text": [
      "Точность модели случайного леса на тестовой выборке 0.7978227060653188\n"
     ]
    }
   ],
   "source": [
    "test_predictions = model_random.predict(test_features)\n",
    "accuracy = accuracy_score(test_target, test_predictions)\n",
    "print('Точность модели случайного леса на тестовой выборке',accuracy)"
   ]
  },
  {
   "cell_type": "markdown",
   "metadata": {},
   "source": [
    "**Самая лучшая модель - это случайный лес, она показывает самые высокие показатели точности.** "
   ]
  },
  {
   "cell_type": "markdown",
   "metadata": {},
   "source": [
    "## Проверка модели на адекватность"
   ]
  },
  {
   "cell_type": "code",
   "execution_count": 30,
   "metadata": {},
   "outputs": [
    {
     "name": "stdout",
     "output_type": "stream",
     "text": [
      "Точность dummpy : 0.7325038880248833\n",
      "Точность случайного леса : 0.8102643856920684\n"
     ]
    }
   ],
   "source": [
    "dummy = DummyClassifier(strategy='most_frequent').fit(features_train, target_train)\n",
    "dummy_pred = dummy.predict(features_valid)\n",
    "result = model_log.score(features_valid, target_valid)\n",
    "print('Точность dummpy :', result)\n",
    "\n",
    "model_random = RandomForestClassifier(random_state=12345, n_estimators=20, criterion='entropy', oob_score=True)\n",
    "model_random.fit(features_train, target_train)\n",
    "predictions = model_random.predict(features_valid)\n",
    "result = model_random.score(features_valid, target_valid)\n",
    "print('Точность случайного леса :', result)"
   ]
  },
  {
   "cell_type": "markdown",
   "metadata": {},
   "source": [
    "**Точность dummpy ниже чем точность случайного леса, и получается модель адекватна (хотя, я не знал вообще как проверять модели на адекватность =D**"
   ]
  },
  {
   "cell_type": "markdown",
   "metadata": {},
   "source": [
    "## Вывод"
   ]
  },
  {
   "cell_type": "markdown",
   "metadata": {},
   "source": [
    "### В данном исследовании была выявляна самая лучшая  модель, для определения рекомендаций по тарифу на основе данных о  количестве звонков, суммарной длительности звонков в минутах, количестве sms-сообщений и израсходованных Мб интернет-трафика. Самой точной показала себя модель случайного леса 0.80 на тестовой выборке (если округлить в большую сторону значение в 0.797) и 0.81 на валидационной выборке."
   ]
  }
 ],
 "metadata": {
  "ExecuteTimeLog": [
   {
    "duration": 49,
    "start_time": "2023-02-14T13:00:18.760Z"
   },
   {
    "duration": 6,
    "start_time": "2023-02-14T13:00:20.363Z"
   },
   {
    "duration": 5,
    "start_time": "2023-02-14T13:00:20.669Z"
   },
   {
    "duration": 1190,
    "start_time": "2023-02-14T13:00:59.721Z"
   },
   {
    "duration": 73,
    "start_time": "2023-02-14T13:01:00.913Z"
   },
   {
    "duration": 13,
    "start_time": "2023-02-14T13:01:00.988Z"
   },
   {
    "duration": 15,
    "start_time": "2023-02-14T13:01:13.387Z"
   },
   {
    "duration": 2,
    "start_time": "2023-02-14T13:03:51.329Z"
   },
   {
    "duration": 61,
    "start_time": "2023-02-14T13:03:51.702Z"
   },
   {
    "duration": 10,
    "start_time": "2023-02-14T13:03:53.097Z"
   },
   {
    "duration": 11,
    "start_time": "2023-02-14T13:03:53.726Z"
   },
   {
    "duration": 7,
    "start_time": "2023-02-14T13:04:27.076Z"
   },
   {
    "duration": 6,
    "start_time": "2023-02-14T13:04:27.706Z"
   },
   {
    "duration": 6,
    "start_time": "2023-02-14T13:28:46.538Z"
   },
   {
    "duration": 32,
    "start_time": "2023-02-14T13:33:38.231Z"
   },
   {
    "duration": 7,
    "start_time": "2023-02-14T13:37:35.337Z"
   },
   {
    "duration": 37,
    "start_time": "2023-02-14T13:37:36.136Z"
   },
   {
    "duration": 574,
    "start_time": "2023-02-14T13:38:05.193Z"
   },
   {
    "duration": 73,
    "start_time": "2023-02-14T13:38:44.549Z"
   },
   {
    "duration": 4,
    "start_time": "2023-02-14T13:39:09.260Z"
   },
   {
    "duration": 63,
    "start_time": "2023-02-14T13:39:09.446Z"
   },
   {
    "duration": 11,
    "start_time": "2023-02-14T13:39:09.632Z"
   },
   {
    "duration": 13,
    "start_time": "2023-02-14T13:39:09.798Z"
   },
   {
    "duration": 7,
    "start_time": "2023-02-14T13:39:09.969Z"
   },
   {
    "duration": 9,
    "start_time": "2023-02-14T13:39:10.145Z"
   },
   {
    "duration": 6,
    "start_time": "2023-02-14T13:39:10.500Z"
   },
   {
    "duration": 15,
    "start_time": "2023-02-14T13:39:11.299Z"
   },
   {
    "duration": 3,
    "start_time": "2023-02-14T13:39:21.231Z"
   },
   {
    "duration": 59,
    "start_time": "2023-02-14T13:39:21.400Z"
   },
   {
    "duration": 9,
    "start_time": "2023-02-14T13:39:21.562Z"
   },
   {
    "duration": 16,
    "start_time": "2023-02-14T13:39:21.738Z"
   },
   {
    "duration": 9,
    "start_time": "2023-02-14T13:39:21.902Z"
   },
   {
    "duration": 6,
    "start_time": "2023-02-14T13:39:22.073Z"
   },
   {
    "duration": 7,
    "start_time": "2023-02-14T13:39:22.404Z"
   },
   {
    "duration": 137,
    "start_time": "2023-02-14T13:39:23.031Z"
   },
   {
    "duration": 296,
    "start_time": "2023-02-14T13:39:51.050Z"
   },
   {
    "duration": 596,
    "start_time": "2023-02-14T13:39:57.519Z"
   },
   {
    "duration": 538,
    "start_time": "2023-02-14T13:40:03.940Z"
   },
   {
    "duration": 1187,
    "start_time": "2023-02-14T13:40:13.122Z"
   },
   {
    "duration": 35,
    "start_time": "2023-02-14T13:40:23.072Z"
   },
   {
    "duration": 43,
    "start_time": "2023-02-14T13:40:38.582Z"
   },
   {
    "duration": 35,
    "start_time": "2023-02-14T13:40:41.819Z"
   },
   {
    "duration": 33,
    "start_time": "2023-02-14T13:40:47.198Z"
   },
   {
    "duration": 36,
    "start_time": "2023-02-14T13:41:06.110Z"
   },
   {
    "duration": 33,
    "start_time": "2023-02-14T13:42:20.887Z"
   },
   {
    "duration": 36,
    "start_time": "2023-02-14T13:43:32.610Z"
   },
   {
    "duration": 1113,
    "start_time": "2023-02-16T10:11:49.267Z"
   },
   {
    "duration": 262,
    "start_time": "2023-02-16T10:11:50.382Z"
   },
   {
    "duration": 129,
    "start_time": "2023-02-16T10:11:50.646Z"
   },
   {
    "duration": 0,
    "start_time": "2023-02-16T10:11:50.777Z"
   },
   {
    "duration": 0,
    "start_time": "2023-02-16T10:11:50.778Z"
   },
   {
    "duration": 0,
    "start_time": "2023-02-16T10:11:50.779Z"
   },
   {
    "duration": 0,
    "start_time": "2023-02-16T10:11:50.781Z"
   },
   {
    "duration": 0,
    "start_time": "2023-02-16T10:11:50.782Z"
   },
   {
    "duration": 0,
    "start_time": "2023-02-16T10:11:50.784Z"
   },
   {
    "duration": 9,
    "start_time": "2023-02-16T10:12:07.047Z"
   },
   {
    "duration": 61,
    "start_time": "2023-02-16T10:12:08.344Z"
   },
   {
    "duration": 16,
    "start_time": "2023-02-16T10:12:08.837Z"
   },
   {
    "duration": 72,
    "start_time": "2023-02-16T10:12:24.728Z"
   },
   {
    "duration": 17,
    "start_time": "2023-02-16T10:12:25.060Z"
   },
   {
    "duration": 13,
    "start_time": "2023-02-16T10:12:25.540Z"
   },
   {
    "duration": 14,
    "start_time": "2023-02-16T10:12:25.835Z"
   },
   {
    "duration": 5,
    "start_time": "2023-02-16T10:12:26.156Z"
   },
   {
    "duration": 8,
    "start_time": "2023-02-16T10:12:26.868Z"
   },
   {
    "duration": 55,
    "start_time": "2023-02-16T10:12:27.775Z"
   },
   {
    "duration": 12,
    "start_time": "2023-02-16T10:12:28.236Z"
   },
   {
    "duration": 29,
    "start_time": "2023-02-16T10:13:44.429Z"
   },
   {
    "duration": 1711,
    "start_time": "2023-02-16T10:15:12.558Z"
   },
   {
    "duration": 935,
    "start_time": "2023-02-16T10:15:40.270Z"
   },
   {
    "duration": 12,
    "start_time": "2023-02-16T10:18:43.445Z"
   },
   {
    "duration": 3,
    "start_time": "2023-02-16T10:19:13.564Z"
   },
   {
    "duration": 88,
    "start_time": "2023-02-16T10:19:13.960Z"
   },
   {
    "duration": 10,
    "start_time": "2023-02-16T10:19:14.169Z"
   },
   {
    "duration": 19,
    "start_time": "2023-02-16T10:19:14.357Z"
   },
   {
    "duration": 11,
    "start_time": "2023-02-16T10:19:14.557Z"
   },
   {
    "duration": 15,
    "start_time": "2023-02-16T10:19:14.734Z"
   },
   {
    "duration": 7,
    "start_time": "2023-02-16T10:19:15.059Z"
   },
   {
    "duration": 42,
    "start_time": "2023-02-16T10:19:15.444Z"
   },
   {
    "duration": 862,
    "start_time": "2023-02-16T10:19:15.665Z"
   },
   {
    "duration": 13,
    "start_time": "2023-02-16T10:19:16.668Z"
   },
   {
    "duration": 82,
    "start_time": "2023-02-16T10:19:37.989Z"
   },
   {
    "duration": 71,
    "start_time": "2023-02-16T10:20:41.186Z"
   },
   {
    "duration": 13,
    "start_time": "2023-02-16T11:10:11.444Z"
   },
   {
    "duration": 4,
    "start_time": "2023-02-16T11:10:11.940Z"
   },
   {
    "duration": 13,
    "start_time": "2023-02-16T11:11:19.845Z"
   },
   {
    "duration": 8,
    "start_time": "2023-02-16T11:11:30.634Z"
   },
   {
    "duration": 39,
    "start_time": "2023-02-16T11:11:31.338Z"
   },
   {
    "duration": 750,
    "start_time": "2023-02-16T11:11:32.244Z"
   },
   {
    "duration": 63,
    "start_time": "2023-02-16T11:11:40.886Z"
   },
   {
    "duration": 105,
    "start_time": "2023-02-16T11:20:10.748Z"
   },
   {
    "duration": 18,
    "start_time": "2023-02-16T11:22:44.657Z"
   },
   {
    "duration": 8,
    "start_time": "2023-02-16T11:22:58.189Z"
   },
   {
    "duration": 26,
    "start_time": "2023-02-16T11:23:03.037Z"
   },
   {
    "duration": 13,
    "start_time": "2023-02-16T11:23:36.988Z"
   },
   {
    "duration": 14,
    "start_time": "2023-02-16T11:23:55.437Z"
   },
   {
    "duration": 74,
    "start_time": "2023-02-16T11:23:55.649Z"
   },
   {
    "duration": 9,
    "start_time": "2023-02-16T11:23:55.790Z"
   },
   {
    "duration": 11,
    "start_time": "2023-02-16T11:23:55.966Z"
   },
   {
    "duration": 5,
    "start_time": "2023-02-16T11:23:56.150Z"
   },
   {
    "duration": 9,
    "start_time": "2023-02-16T11:23:57.051Z"
   },
   {
    "duration": 9,
    "start_time": "2023-02-16T11:23:57.454Z"
   },
   {
    "duration": 14,
    "start_time": "2023-02-16T11:23:58.848Z"
   },
   {
    "duration": 7,
    "start_time": "2023-02-16T11:24:25.877Z"
   },
   {
    "duration": 6,
    "start_time": "2023-02-16T11:24:44.662Z"
   },
   {
    "duration": 42,
    "start_time": "2023-02-16T11:24:45.740Z"
   },
   {
    "duration": 901,
    "start_time": "2023-02-16T11:24:47.709Z"
   },
   {
    "duration": 60,
    "start_time": "2023-02-16T11:24:49.283Z"
   },
   {
    "duration": 82,
    "start_time": "2023-02-16T11:29:06.044Z"
   },
   {
    "duration": 109,
    "start_time": "2023-02-16T11:29:32.747Z"
   },
   {
    "duration": 109,
    "start_time": "2023-02-16T11:31:17.665Z"
   },
   {
    "duration": 14,
    "start_time": "2023-02-16T11:31:29.469Z"
   },
   {
    "duration": 49,
    "start_time": "2023-02-16T11:32:07.553Z"
   },
   {
    "duration": 56,
    "start_time": "2023-02-16T11:33:11.891Z"
   },
   {
    "duration": 48,
    "start_time": "2023-02-16T11:34:43.091Z"
   },
   {
    "duration": 9,
    "start_time": "2023-02-16T11:40:07.081Z"
   },
   {
    "duration": 56,
    "start_time": "2023-02-16T11:41:09.491Z"
   },
   {
    "duration": 748,
    "start_time": "2023-02-16T11:41:10.339Z"
   },
   {
    "duration": 777,
    "start_time": "2023-02-16T11:41:43.451Z"
   },
   {
    "duration": 782,
    "start_time": "2023-02-16T11:42:34.743Z"
   },
   {
    "duration": 139,
    "start_time": "2023-02-16T11:45:27.361Z"
   },
   {
    "duration": 14,
    "start_time": "2023-02-16T11:45:49.643Z"
   },
   {
    "duration": 4,
    "start_time": "2023-02-16T11:46:18.765Z"
   },
   {
    "duration": 85,
    "start_time": "2023-02-16T11:46:18.958Z"
   },
   {
    "duration": 12,
    "start_time": "2023-02-16T11:46:19.145Z"
   },
   {
    "duration": 18,
    "start_time": "2023-02-16T11:46:19.345Z"
   },
   {
    "duration": 4,
    "start_time": "2023-02-16T11:46:19.488Z"
   },
   {
    "duration": 8,
    "start_time": "2023-02-16T11:46:19.840Z"
   },
   {
    "duration": 7,
    "start_time": "2023-02-16T11:46:19.978Z"
   },
   {
    "duration": 6,
    "start_time": "2023-02-16T11:46:20.681Z"
   },
   {
    "duration": 58,
    "start_time": "2023-02-16T11:46:21.193Z"
   },
   {
    "duration": 771,
    "start_time": "2023-02-16T11:46:21.552Z"
   },
   {
    "duration": 369,
    "start_time": "2023-02-16T11:46:22.324Z"
   },
   {
    "duration": 78,
    "start_time": "2023-02-16T11:48:34.793Z"
   },
   {
    "duration": 65,
    "start_time": "2023-02-16T11:49:33.674Z"
   },
   {
    "duration": 69,
    "start_time": "2023-02-16T11:49:36.602Z"
   },
   {
    "duration": 834,
    "start_time": "2023-02-16T11:49:59.939Z"
   },
   {
    "duration": 34,
    "start_time": "2023-02-16T11:51:21.401Z"
   },
   {
    "duration": 29272,
    "start_time": "2023-02-16T11:52:28.042Z"
   },
   {
    "duration": 451,
    "start_time": "2023-02-16T11:53:12.837Z"
   },
   {
    "duration": 5578,
    "start_time": "2023-02-16T11:53:20.265Z"
   },
   {
    "duration": 644,
    "start_time": "2023-02-16T11:53:45.704Z"
   },
   {
    "duration": 42,
    "start_time": "2023-02-16T11:57:02.089Z"
   },
   {
    "duration": 388,
    "start_time": "2023-02-16T11:57:16.971Z"
   },
   {
    "duration": 32,
    "start_time": "2023-02-16T11:57:18.976Z"
   },
   {
    "duration": 1125,
    "start_time": "2023-02-16T11:57:23.048Z"
   },
   {
    "duration": 92,
    "start_time": "2023-02-16T11:57:24.175Z"
   },
   {
    "duration": 16,
    "start_time": "2023-02-16T11:57:24.268Z"
   },
   {
    "duration": 10,
    "start_time": "2023-02-16T11:57:24.285Z"
   },
   {
    "duration": 50,
    "start_time": "2023-02-16T11:57:24.297Z"
   },
   {
    "duration": 7,
    "start_time": "2023-02-16T11:57:24.349Z"
   },
   {
    "duration": 29,
    "start_time": "2023-02-16T11:57:24.357Z"
   },
   {
    "duration": 19,
    "start_time": "2023-02-16T11:57:24.387Z"
   },
   {
    "duration": 72,
    "start_time": "2023-02-16T11:57:24.407Z"
   },
   {
    "duration": 794,
    "start_time": "2023-02-16T11:57:24.480Z"
   },
   {
    "duration": 506,
    "start_time": "2023-02-16T11:57:25.276Z"
   },
   {
    "duration": 0,
    "start_time": "2023-02-16T11:57:25.784Z"
   },
   {
    "duration": 358,
    "start_time": "2023-02-16T11:58:02.439Z"
   },
   {
    "duration": 369,
    "start_time": "2023-02-16T11:59:04.352Z"
   },
   {
    "duration": 344,
    "start_time": "2023-02-16T11:59:11.849Z"
   },
   {
    "duration": 33,
    "start_time": "2023-02-16T11:59:21.165Z"
   },
   {
    "duration": 30,
    "start_time": "2023-02-16T12:01:56.660Z"
   },
   {
    "duration": 42,
    "start_time": "2023-02-16T12:02:15.639Z"
   },
   {
    "duration": 72,
    "start_time": "2023-02-16T12:02:23.079Z"
   },
   {
    "duration": 53,
    "start_time": "2023-02-16T12:02:28.138Z"
   },
   {
    "duration": 43,
    "start_time": "2023-02-16T12:02:34.342Z"
   },
   {
    "duration": 33,
    "start_time": "2023-02-16T12:02:52.969Z"
   },
   {
    "duration": 35,
    "start_time": "2023-02-16T12:06:27.449Z"
   },
   {
    "duration": 35,
    "start_time": "2023-02-16T12:06:37.648Z"
   },
   {
    "duration": 31,
    "start_time": "2023-02-16T12:06:43.876Z"
   },
   {
    "duration": 15215,
    "start_time": "2023-02-16T12:22:55.850Z"
   },
   {
    "duration": 642,
    "start_time": "2023-02-16T12:24:18.028Z"
   },
   {
    "duration": 649,
    "start_time": "2023-02-16T12:24:27.739Z"
   },
   {
    "duration": 671,
    "start_time": "2023-02-16T12:24:30.935Z"
   },
   {
    "duration": 639,
    "start_time": "2023-02-16T12:24:33.303Z"
   },
   {
    "duration": 679,
    "start_time": "2023-02-16T12:24:39.168Z"
   },
   {
    "duration": 656,
    "start_time": "2023-02-16T12:24:41.831Z"
   },
   {
    "duration": 643,
    "start_time": "2023-02-16T12:24:46.187Z"
   },
   {
    "duration": 6129,
    "start_time": "2023-02-16T12:25:24.548Z"
   },
   {
    "duration": 10,
    "start_time": "2023-02-16T12:28:15.160Z"
   },
   {
    "duration": 5,
    "start_time": "2023-02-16T12:29:06.960Z"
   },
   {
    "duration": 66,
    "start_time": "2023-02-16T12:29:07.140Z"
   },
   {
    "duration": 9,
    "start_time": "2023-02-16T12:29:07.291Z"
   },
   {
    "duration": 10,
    "start_time": "2023-02-16T12:29:07.463Z"
   },
   {
    "duration": 19,
    "start_time": "2023-02-16T12:29:07.644Z"
   },
   {
    "duration": 7,
    "start_time": "2023-02-16T12:29:07.960Z"
   },
   {
    "duration": 14,
    "start_time": "2023-02-16T12:29:08.134Z"
   },
   {
    "duration": 14,
    "start_time": "2023-02-16T12:29:08.749Z"
   },
   {
    "duration": 57,
    "start_time": "2023-02-16T12:29:09.229Z"
   },
   {
    "duration": 781,
    "start_time": "2023-02-16T12:29:09.540Z"
   },
   {
    "duration": 364,
    "start_time": "2023-02-16T12:29:10.323Z"
   },
   {
    "duration": 8,
    "start_time": "2023-02-16T12:29:10.689Z"
   },
   {
    "duration": 0,
    "start_time": "2023-02-16T12:29:10.699Z"
   },
   {
    "duration": 6106,
    "start_time": "2023-02-16T12:29:10.840Z"
   },
   {
    "duration": 16,
    "start_time": "2023-02-16T12:29:50.052Z"
   },
   {
    "duration": 657,
    "start_time": "2023-02-16T12:29:55.041Z"
   },
   {
    "duration": 6354,
    "start_time": "2023-02-16T12:29:57.385Z"
   },
   {
    "duration": 813,
    "start_time": "2023-02-16T12:31:08.485Z"
   },
   {
    "duration": 16,
    "start_time": "2023-02-16T12:32:17.140Z"
   },
   {
    "duration": 26,
    "start_time": "2023-02-16T12:32:29.637Z"
   },
   {
    "duration": 692,
    "start_time": "2023-02-16T12:35:43.295Z"
   },
   {
    "duration": 649,
    "start_time": "2023-02-16T12:35:53.460Z"
   },
   {
    "duration": 38,
    "start_time": "2023-02-16T12:37:56.948Z"
   },
   {
    "duration": 81,
    "start_time": "2023-02-16T12:37:58.689Z"
   },
   {
    "duration": 671,
    "start_time": "2023-02-16T12:38:00.137Z"
   },
   {
    "duration": 355,
    "start_time": "2023-02-16T12:38:22.531Z"
   },
   {
    "duration": 38,
    "start_time": "2023-02-16T12:38:27.025Z"
   },
   {
    "duration": 535,
    "start_time": "2023-02-16T12:38:29.301Z"
   },
   {
    "duration": 5303,
    "start_time": "2023-02-16T12:38:31.791Z"
   },
   {
    "duration": 8,
    "start_time": "2023-02-16T12:49:58.193Z"
   },
   {
    "duration": 10,
    "start_time": "2023-02-16T12:50:07.294Z"
   },
   {
    "duration": 11,
    "start_time": "2023-02-16T12:54:58.353Z"
   },
   {
    "duration": 24,
    "start_time": "2023-02-16T12:55:26.899Z"
   },
   {
    "duration": 6,
    "start_time": "2023-02-16T12:55:43.451Z"
   },
   {
    "duration": 36,
    "start_time": "2023-02-16T12:55:45.570Z"
   },
   {
    "duration": 9,
    "start_time": "2023-02-16T13:01:38.808Z"
   },
   {
    "duration": 7,
    "start_time": "2023-02-16T13:02:00.467Z"
   },
   {
    "duration": 7,
    "start_time": "2023-02-16T13:02:20.600Z"
   },
   {
    "duration": 32,
    "start_time": "2023-02-16T13:02:22.041Z"
   },
   {
    "duration": 600,
    "start_time": "2023-02-16T13:02:24.039Z"
   },
   {
    "duration": 306,
    "start_time": "2023-02-16T13:02:25.063Z"
   },
   {
    "duration": 11,
    "start_time": "2023-02-16T13:02:25.779Z"
   },
   {
    "duration": 509,
    "start_time": "2023-02-16T13:02:25.961Z"
   },
   {
    "duration": 5012,
    "start_time": "2023-02-16T13:02:26.473Z"
   },
   {
    "duration": 10,
    "start_time": "2023-02-16T13:02:31.487Z"
   },
   {
    "duration": 3,
    "start_time": "2023-02-16T13:04:07.581Z"
   },
   {
    "duration": 57,
    "start_time": "2023-02-16T13:04:07.741Z"
   },
   {
    "duration": 10,
    "start_time": "2023-02-16T13:04:07.936Z"
   },
   {
    "duration": 15,
    "start_time": "2023-02-16T13:04:08.131Z"
   },
   {
    "duration": 16,
    "start_time": "2023-02-16T13:04:08.307Z"
   },
   {
    "duration": 7,
    "start_time": "2023-02-16T13:04:08.666Z"
   },
   {
    "duration": 6,
    "start_time": "2023-02-16T13:04:08.840Z"
   },
   {
    "duration": 8,
    "start_time": "2023-02-16T13:04:09.850Z"
   },
   {
    "duration": 45,
    "start_time": "2023-02-16T13:04:10.894Z"
   },
   {
    "duration": 595,
    "start_time": "2023-02-16T13:04:12.103Z"
   },
   {
    "duration": 1159,
    "start_time": "2023-02-16T13:04:58.007Z"
   },
   {
    "duration": 83,
    "start_time": "2023-02-16T13:04:59.169Z"
   },
   {
    "duration": 16,
    "start_time": "2023-02-16T13:04:59.253Z"
   },
   {
    "duration": 11,
    "start_time": "2023-02-16T13:04:59.271Z"
   },
   {
    "duration": 4,
    "start_time": "2023-02-16T13:04:59.288Z"
   },
   {
    "duration": 12,
    "start_time": "2023-02-16T13:04:59.293Z"
   },
   {
    "duration": 37,
    "start_time": "2023-02-16T13:04:59.306Z"
   },
   {
    "duration": 7,
    "start_time": "2023-02-16T13:04:59.345Z"
   },
   {
    "duration": 120,
    "start_time": "2023-02-16T13:04:59.354Z"
   },
   {
    "duration": 0,
    "start_time": "2023-02-16T13:04:59.476Z"
   },
   {
    "duration": 0,
    "start_time": "2023-02-16T13:04:59.478Z"
   },
   {
    "duration": 0,
    "start_time": "2023-02-16T13:04:59.479Z"
   },
   {
    "duration": 0,
    "start_time": "2023-02-16T13:04:59.480Z"
   },
   {
    "duration": 0,
    "start_time": "2023-02-16T13:04:59.481Z"
   },
   {
    "duration": 0,
    "start_time": "2023-02-16T13:04:59.482Z"
   },
   {
    "duration": 9,
    "start_time": "2023-02-16T13:07:31.079Z"
   },
   {
    "duration": 7,
    "start_time": "2023-02-16T13:08:10.631Z"
   },
   {
    "duration": 113,
    "start_time": "2023-02-16T13:08:10.935Z"
   },
   {
    "duration": 10,
    "start_time": "2023-02-16T13:08:11.245Z"
   },
   {
    "duration": 20,
    "start_time": "2023-02-16T13:08:11.611Z"
   },
   {
    "duration": 14,
    "start_time": "2023-02-16T13:08:11.805Z"
   },
   {
    "duration": 11,
    "start_time": "2023-02-16T13:08:12.241Z"
   },
   {
    "duration": 7,
    "start_time": "2023-02-16T13:08:12.485Z"
   },
   {
    "duration": 22,
    "start_time": "2023-02-16T13:08:14.104Z"
   },
   {
    "duration": 6,
    "start_time": "2023-02-16T13:08:25.197Z"
   },
   {
    "duration": 45,
    "start_time": "2023-02-16T13:08:35.004Z"
   },
   {
    "duration": 15,
    "start_time": "2023-02-16T13:08:43.596Z"
   },
   {
    "duration": 29,
    "start_time": "2023-02-16T13:08:47.517Z"
   },
   {
    "duration": 6,
    "start_time": "2023-02-16T13:11:10.649Z"
   },
   {
    "duration": 10,
    "start_time": "2023-02-16T13:13:34.586Z"
   },
   {
    "duration": 5,
    "start_time": "2023-02-16T13:13:39.662Z"
   },
   {
    "duration": 43,
    "start_time": "2023-02-16T13:13:40.676Z"
   },
   {
    "duration": 634,
    "start_time": "2023-02-16T13:13:53.989Z"
   },
   {
    "duration": 311,
    "start_time": "2023-02-16T13:14:08.169Z"
   },
   {
    "duration": 18,
    "start_time": "2023-02-16T13:18:14.905Z"
   },
   {
    "duration": 41,
    "start_time": "2023-02-16T13:21:12.152Z"
   },
   {
    "duration": 691,
    "start_time": "2023-02-16T13:21:12.886Z"
   },
   {
    "duration": 331,
    "start_time": "2023-02-16T13:21:14.808Z"
   },
   {
    "duration": 12,
    "start_time": "2023-02-16T13:22:06.683Z"
   },
   {
    "duration": 4,
    "start_time": "2023-02-16T13:22:33.365Z"
   },
   {
    "duration": 126,
    "start_time": "2023-02-16T13:22:33.735Z"
   },
   {
    "duration": 10,
    "start_time": "2023-02-16T13:22:33.987Z"
   },
   {
    "duration": 12,
    "start_time": "2023-02-16T13:22:34.254Z"
   },
   {
    "duration": 4,
    "start_time": "2023-02-16T13:22:34.600Z"
   },
   {
    "duration": 13,
    "start_time": "2023-02-16T13:22:35.255Z"
   },
   {
    "duration": 7,
    "start_time": "2023-02-16T13:22:35.436Z"
   },
   {
    "duration": 6,
    "start_time": "2023-02-16T13:22:36.371Z"
   },
   {
    "duration": 10,
    "start_time": "2023-02-16T13:22:36.656Z"
   },
   {
    "duration": 74,
    "start_time": "2023-02-16T13:22:38.174Z"
   },
   {
    "duration": 738,
    "start_time": "2023-02-16T13:22:38.537Z"
   },
   {
    "duration": 324,
    "start_time": "2023-02-16T13:22:39.277Z"
   },
   {
    "duration": 11,
    "start_time": "2023-02-16T13:22:39.697Z"
   },
   {
    "duration": 566,
    "start_time": "2023-02-16T13:22:39.865Z"
   },
   {
    "duration": 5240,
    "start_time": "2023-02-16T13:22:40.444Z"
   },
   {
    "duration": 13,
    "start_time": "2023-02-16T13:22:45.685Z"
   },
   {
    "duration": 14,
    "start_time": "2023-02-16T13:24:13.660Z"
   },
   {
    "duration": 28,
    "start_time": "2023-02-16T13:26:38.658Z"
   },
   {
    "duration": 33,
    "start_time": "2023-02-16T13:27:22.632Z"
   },
   {
    "duration": 28,
    "start_time": "2023-02-16T13:29:42.456Z"
   },
   {
    "duration": 33,
    "start_time": "2023-02-16T13:29:52.840Z"
   },
   {
    "duration": 41,
    "start_time": "2023-02-16T13:31:24.593Z"
   },
   {
    "duration": 44,
    "start_time": "2023-02-16T13:31:39.991Z"
   },
   {
    "duration": 1228,
    "start_time": "2023-02-16T13:31:48.431Z"
   },
   {
    "duration": 78,
    "start_time": "2023-02-16T13:31:49.661Z"
   },
   {
    "duration": 27,
    "start_time": "2023-02-16T13:31:49.740Z"
   },
   {
    "duration": 11,
    "start_time": "2023-02-16T13:31:49.770Z"
   },
   {
    "duration": 4,
    "start_time": "2023-02-16T13:31:49.783Z"
   },
   {
    "duration": 7,
    "start_time": "2023-02-16T13:31:49.788Z"
   },
   {
    "duration": 6,
    "start_time": "2023-02-16T13:31:49.797Z"
   },
   {
    "duration": 11,
    "start_time": "2023-02-16T13:31:49.804Z"
   },
   {
    "duration": 30,
    "start_time": "2023-02-16T13:31:49.840Z"
   },
   {
    "duration": 136,
    "start_time": "2023-02-16T13:31:49.872Z"
   },
   {
    "duration": 0,
    "start_time": "2023-02-16T13:31:50.029Z"
   },
   {
    "duration": 0,
    "start_time": "2023-02-16T13:31:50.030Z"
   },
   {
    "duration": 0,
    "start_time": "2023-02-16T13:31:50.031Z"
   },
   {
    "duration": 0,
    "start_time": "2023-02-16T13:31:50.032Z"
   },
   {
    "duration": 0,
    "start_time": "2023-02-16T13:31:50.032Z"
   },
   {
    "duration": 0,
    "start_time": "2023-02-16T13:31:50.033Z"
   },
   {
    "duration": 47,
    "start_time": "2023-02-16T13:33:13.830Z"
   },
   {
    "duration": 31,
    "start_time": "2023-02-16T13:34:22.406Z"
   },
   {
    "duration": 36,
    "start_time": "2023-02-16T13:34:30.907Z"
   },
   {
    "duration": 36,
    "start_time": "2023-02-16T13:34:34.507Z"
   },
   {
    "duration": 15,
    "start_time": "2023-02-16T13:34:37.761Z"
   },
   {
    "duration": 29,
    "start_time": "2023-02-16T13:34:42.739Z"
   },
   {
    "duration": 15,
    "start_time": "2023-02-16T13:34:57.585Z"
   },
   {
    "duration": 18,
    "start_time": "2023-02-16T13:35:29.051Z"
   },
   {
    "duration": 20,
    "start_time": "2023-02-16T13:35:31.867Z"
   },
   {
    "duration": 15,
    "start_time": "2023-02-16T13:35:35.792Z"
   },
   {
    "duration": 14,
    "start_time": "2023-02-16T13:35:38.559Z"
   },
   {
    "duration": 22,
    "start_time": "2023-02-16T13:37:17.854Z"
   },
   {
    "duration": 16,
    "start_time": "2023-02-16T13:45:15.990Z"
   },
   {
    "duration": 12,
    "start_time": "2023-02-16T13:45:22.033Z"
   },
   {
    "duration": 27,
    "start_time": "2023-02-16T13:46:05.396Z"
   },
   {
    "duration": 15,
    "start_time": "2023-02-16T13:47:34.670Z"
   },
   {
    "duration": 27,
    "start_time": "2023-02-16T13:48:01.916Z"
   },
   {
    "duration": 27,
    "start_time": "2023-02-16T13:48:03.054Z"
   },
   {
    "duration": 11,
    "start_time": "2023-02-16T13:49:00.786Z"
   },
   {
    "duration": 7,
    "start_time": "2023-02-16T13:49:25.383Z"
   },
   {
    "duration": 7,
    "start_time": "2023-02-16T13:49:25.562Z"
   },
   {
    "duration": 56,
    "start_time": "2023-02-16T13:49:26.085Z"
   },
   {
    "duration": 25,
    "start_time": "2023-02-16T13:49:26.443Z"
   },
   {
    "duration": 16,
    "start_time": "2023-02-16T13:49:26.958Z"
   },
   {
    "duration": 12,
    "start_time": "2023-02-16T13:49:27.334Z"
   },
   {
    "duration": 7,
    "start_time": "2023-02-16T13:52:48.450Z"
   },
   {
    "duration": 7,
    "start_time": "2023-02-16T13:52:50.453Z"
   },
   {
    "duration": 32,
    "start_time": "2023-02-16T13:52:53.662Z"
   },
   {
    "duration": 16,
    "start_time": "2023-02-16T13:52:54.060Z"
   },
   {
    "duration": 21,
    "start_time": "2023-02-16T13:52:55.083Z"
   },
   {
    "duration": 1331,
    "start_time": "2023-02-16T15:57:05.900Z"
   },
   {
    "duration": 90,
    "start_time": "2023-02-16T15:57:07.233Z"
   },
   {
    "duration": 35,
    "start_time": "2023-02-16T15:57:07.324Z"
   },
   {
    "duration": 38,
    "start_time": "2023-02-16T15:57:07.360Z"
   },
   {
    "duration": 5,
    "start_time": "2023-02-16T15:57:07.402Z"
   },
   {
    "duration": 46,
    "start_time": "2023-02-16T15:57:07.409Z"
   },
   {
    "duration": 36,
    "start_time": "2023-02-16T15:57:07.457Z"
   },
   {
    "duration": 6,
    "start_time": "2023-02-16T15:57:07.495Z"
   },
   {
    "duration": 51,
    "start_time": "2023-02-16T15:57:07.503Z"
   },
   {
    "duration": 68,
    "start_time": "2023-02-16T15:57:07.567Z"
   },
   {
    "duration": 25,
    "start_time": "2023-02-16T15:57:07.643Z"
   },
   {
    "duration": 13,
    "start_time": "2023-02-16T15:57:07.670Z"
   },
   {
    "duration": 8,
    "start_time": "2023-02-16T15:57:07.685Z"
   },
   {
    "duration": 480,
    "start_time": "2023-02-16T15:57:07.695Z"
   },
   {
    "duration": 0,
    "start_time": "2023-02-16T15:57:08.178Z"
   },
   {
    "duration": 0,
    "start_time": "2023-02-16T15:57:08.179Z"
   },
   {
    "duration": 0,
    "start_time": "2023-02-16T15:57:08.181Z"
   },
   {
    "duration": 0,
    "start_time": "2023-02-16T15:57:08.183Z"
   },
   {
    "duration": 385,
    "start_time": "2023-02-16T15:57:42.397Z"
   },
   {
    "duration": 25,
    "start_time": "2023-02-16T16:00:21.940Z"
   },
   {
    "duration": 15,
    "start_time": "2023-02-16T16:00:41.250Z"
   },
   {
    "duration": 60,
    "start_time": "2023-02-16T16:00:52.682Z"
   },
   {
    "duration": 17,
    "start_time": "2023-02-16T16:00:53.668Z"
   },
   {
    "duration": 25,
    "start_time": "2023-02-16T16:00:55.044Z"
   },
   {
    "duration": 12,
    "start_time": "2023-02-16T16:00:55.966Z"
   },
   {
    "duration": 69,
    "start_time": "2023-02-16T16:03:02.584Z"
   },
   {
    "duration": 144,
    "start_time": "2023-02-16T16:03:08.697Z"
   },
   {
    "duration": 166,
    "start_time": "2023-02-16T16:03:12.994Z"
   },
   {
    "duration": 311,
    "start_time": "2023-02-16T16:03:16.668Z"
   },
   {
    "duration": 128,
    "start_time": "2023-02-16T16:03:20.277Z"
   },
   {
    "duration": 132,
    "start_time": "2023-02-16T16:04:34.967Z"
   },
   {
    "duration": 190,
    "start_time": "2023-02-16T16:06:41.793Z"
   },
   {
    "duration": 141,
    "start_time": "2023-02-16T16:08:19.942Z"
   },
   {
    "duration": 128,
    "start_time": "2023-02-16T16:09:50.876Z"
   },
   {
    "duration": 10,
    "start_time": "2023-02-16T16:10:59.344Z"
   },
   {
    "duration": 32,
    "start_time": "2023-02-16T16:16:36.691Z"
   },
   {
    "duration": 13,
    "start_time": "2023-02-16T16:17:05.095Z"
   },
   {
    "duration": 14,
    "start_time": "2023-02-16T16:19:23.048Z"
   },
   {
    "duration": 7,
    "start_time": "2023-02-16T16:19:50.045Z"
   },
   {
    "duration": 82,
    "start_time": "2023-02-16T16:19:50.224Z"
   },
   {
    "duration": 9,
    "start_time": "2023-02-16T16:19:50.399Z"
   },
   {
    "duration": 10,
    "start_time": "2023-02-16T16:19:50.552Z"
   },
   {
    "duration": 7,
    "start_time": "2023-02-16T16:19:50.725Z"
   },
   {
    "duration": 6,
    "start_time": "2023-02-16T16:19:51.038Z"
   },
   {
    "duration": 6,
    "start_time": "2023-02-16T16:19:51.195Z"
   },
   {
    "duration": 7,
    "start_time": "2023-02-16T16:19:52.038Z"
   },
   {
    "duration": 18,
    "start_time": "2023-02-16T16:19:52.048Z"
   },
   {
    "duration": 49,
    "start_time": "2023-02-16T16:19:52.489Z"
   },
   {
    "duration": 22,
    "start_time": "2023-02-16T16:19:52.831Z"
   },
   {
    "duration": 17,
    "start_time": "2023-02-16T16:19:53.441Z"
   },
   {
    "duration": 10,
    "start_time": "2023-02-16T16:19:53.834Z"
   },
   {
    "duration": 425,
    "start_time": "2023-02-16T16:19:54.181Z"
   },
   {
    "duration": 130,
    "start_time": "2023-02-16T16:19:56.757Z"
   },
   {
    "duration": 127,
    "start_time": "2023-02-16T16:19:57.495Z"
   },
   {
    "duration": 169,
    "start_time": "2023-02-16T16:19:58.596Z"
   },
   {
    "duration": 135,
    "start_time": "2023-02-16T16:20:00.890Z"
   },
   {
    "duration": 5969,
    "start_time": "2023-02-16T16:21:02.174Z"
   },
   {
    "duration": 6242,
    "start_time": "2023-02-16T16:21:18.894Z"
   },
   {
    "duration": 179,
    "start_time": "2023-02-16T16:25:14.402Z"
   },
   {
    "duration": 171,
    "start_time": "2023-02-16T16:25:18.847Z"
   },
   {
    "duration": 127,
    "start_time": "2023-02-16T16:26:10.510Z"
   },
   {
    "duration": 10,
    "start_time": "2023-02-16T16:26:59.436Z"
   },
   {
    "duration": 126,
    "start_time": "2023-02-16T16:27:23.147Z"
   },
   {
    "duration": 183,
    "start_time": "2023-02-16T16:28:18.372Z"
   },
   {
    "duration": 177,
    "start_time": "2023-02-16T16:28:53.045Z"
   },
   {
    "duration": 137,
    "start_time": "2023-02-16T16:32:11.739Z"
   },
   {
    "duration": 129,
    "start_time": "2023-02-16T16:32:38.445Z"
   },
   {
    "duration": 127,
    "start_time": "2023-02-16T16:33:25.667Z"
   },
   {
    "duration": 140,
    "start_time": "2023-02-16T16:34:04.953Z"
   },
   {
    "duration": 20,
    "start_time": "2023-02-16T16:35:41.903Z"
   },
   {
    "duration": 579,
    "start_time": "2023-02-16T16:36:32.248Z"
   },
   {
    "duration": 14,
    "start_time": "2023-02-16T16:37:35.505Z"
   },
   {
    "duration": 9,
    "start_time": "2023-02-16T16:37:46.135Z"
   },
   {
    "duration": 311,
    "start_time": "2023-02-16T16:37:52.726Z"
   },
   {
    "duration": 102,
    "start_time": "2023-02-16T16:37:59.473Z"
   },
   {
    "duration": 121,
    "start_time": "2023-02-16T16:38:01.869Z"
   },
   {
    "duration": 128,
    "start_time": "2023-02-16T16:38:04.075Z"
   },
   {
    "duration": 577,
    "start_time": "2023-02-16T16:39:46.896Z"
   },
   {
    "duration": 603,
    "start_time": "2023-02-16T16:40:36.429Z"
   },
   {
    "duration": 3117,
    "start_time": "2023-02-16T16:41:35.010Z"
   },
   {
    "duration": 79,
    "start_time": "2023-02-16T16:41:50.337Z"
   },
   {
    "duration": 13,
    "start_time": "2023-02-16T16:42:00.340Z"
   },
   {
    "duration": 3189,
    "start_time": "2023-02-16T16:42:05.899Z"
   },
   {
    "duration": 608,
    "start_time": "2023-02-16T16:42:11.725Z"
   },
   {
    "duration": 86,
    "start_time": "2023-02-16T16:42:14.803Z"
   },
   {
    "duration": 12,
    "start_time": "2023-02-16T16:42:57.850Z"
   },
   {
    "duration": 159,
    "start_time": "2023-02-16T16:43:37.666Z"
   },
   {
    "duration": 156,
    "start_time": "2023-02-16T16:43:47.224Z"
   },
   {
    "duration": 96,
    "start_time": "2023-02-16T16:44:33.024Z"
   },
   {
    "duration": 69,
    "start_time": "2023-02-16T16:44:42.336Z"
   },
   {
    "duration": 20,
    "start_time": "2023-02-16T16:45:04.038Z"
   },
   {
    "duration": 60,
    "start_time": "2023-02-16T16:45:31.007Z"
   },
   {
    "duration": 53,
    "start_time": "2023-02-16T16:45:40.321Z"
   },
   {
    "duration": 15,
    "start_time": "2023-02-16T16:46:06.750Z"
   },
   {
    "duration": 75,
    "start_time": "2023-02-16T16:46:31.730Z"
   },
   {
    "duration": 52,
    "start_time": "2023-02-16T16:46:44.543Z"
   },
   {
    "duration": 58,
    "start_time": "2023-02-16T16:46:48.488Z"
   },
   {
    "duration": 51,
    "start_time": "2023-02-16T16:46:54.529Z"
   },
   {
    "duration": 3460,
    "start_time": "2023-02-16T16:47:02.155Z"
   },
   {
    "duration": 867,
    "start_time": "2023-02-16T16:47:16.082Z"
   },
   {
    "duration": 52,
    "start_time": "2023-02-16T16:47:27.032Z"
   },
   {
    "duration": 56,
    "start_time": "2023-02-16T16:47:28.509Z"
   },
   {
    "duration": 58,
    "start_time": "2023-02-16T16:47:41.211Z"
   },
   {
    "duration": 886,
    "start_time": "2023-02-16T16:49:13.818Z"
   },
   {
    "duration": 805,
    "start_time": "2023-02-16T16:49:19.771Z"
   },
   {
    "duration": 15,
    "start_time": "2023-02-16T16:53:55.977Z"
   },
   {
    "duration": 21,
    "start_time": "2023-02-16T16:54:17.008Z"
   },
   {
    "duration": 18,
    "start_time": "2023-02-16T16:54:38.268Z"
   },
   {
    "duration": 1338,
    "start_time": "2023-02-16T17:44:05.414Z"
   },
   {
    "duration": 181,
    "start_time": "2023-02-16T17:44:06.754Z"
   },
   {
    "duration": 17,
    "start_time": "2023-02-16T17:44:06.936Z"
   },
   {
    "duration": 11,
    "start_time": "2023-02-16T17:44:06.954Z"
   },
   {
    "duration": 7,
    "start_time": "2023-02-16T17:44:06.968Z"
   },
   {
    "duration": 12,
    "start_time": "2023-02-16T17:44:06.976Z"
   },
   {
    "duration": 8,
    "start_time": "2023-02-16T17:44:06.990Z"
   },
   {
    "duration": 5,
    "start_time": "2023-02-16T17:44:07.000Z"
   },
   {
    "duration": 8,
    "start_time": "2023-02-16T17:44:07.007Z"
   },
   {
    "duration": 32,
    "start_time": "2023-02-16T17:44:07.016Z"
   },
   {
    "duration": 46,
    "start_time": "2023-02-16T17:44:07.051Z"
   },
   {
    "duration": 17,
    "start_time": "2023-02-16T17:44:07.098Z"
   },
   {
    "duration": 9,
    "start_time": "2023-02-16T17:44:07.117Z"
   },
   {
    "duration": 343,
    "start_time": "2023-02-16T17:44:07.129Z"
   },
   {
    "duration": 96,
    "start_time": "2023-02-16T17:44:07.473Z"
   },
   {
    "duration": 116,
    "start_time": "2023-02-16T17:44:07.571Z"
   },
   {
    "duration": 122,
    "start_time": "2023-02-16T17:44:07.691Z"
   },
   {
    "duration": 1036,
    "start_time": "2023-02-16T17:44:07.816Z"
   },
   {
    "duration": 78,
    "start_time": "2023-02-16T17:44:08.854Z"
   },
   {
    "duration": 82,
    "start_time": "2023-02-16T17:44:08.934Z"
   },
   {
    "duration": 74,
    "start_time": "2023-02-16T17:44:09.018Z"
   },
   {
    "duration": 16,
    "start_time": "2023-02-16T17:44:09.094Z"
   },
   {
    "duration": 4,
    "start_time": "2023-02-16T17:44:54.768Z"
   },
   {
    "duration": 47,
    "start_time": "2023-02-19T09:48:26.390Z"
   },
   {
    "duration": 1116,
    "start_time": "2023-02-19T09:48:31.337Z"
   },
   {
    "duration": 156,
    "start_time": "2023-02-19T09:48:32.455Z"
   },
   {
    "duration": 18,
    "start_time": "2023-02-19T09:48:32.612Z"
   },
   {
    "duration": 11,
    "start_time": "2023-02-19T09:48:32.632Z"
   },
   {
    "duration": 8,
    "start_time": "2023-02-19T09:48:32.644Z"
   },
   {
    "duration": 9,
    "start_time": "2023-02-19T09:48:32.654Z"
   },
   {
    "duration": 10,
    "start_time": "2023-02-19T09:48:32.665Z"
   },
   {
    "duration": 7,
    "start_time": "2023-02-19T09:48:32.677Z"
   },
   {
    "duration": 11,
    "start_time": "2023-02-19T09:48:32.686Z"
   },
   {
    "duration": 5,
    "start_time": "2023-02-19T09:48:32.700Z"
   },
   {
    "duration": 75,
    "start_time": "2023-02-19T09:48:32.707Z"
   },
   {
    "duration": 16,
    "start_time": "2023-02-19T09:48:32.784Z"
   },
   {
    "duration": 12,
    "start_time": "2023-02-19T09:48:32.802Z"
   },
   {
    "duration": 34,
    "start_time": "2023-02-19T09:48:32.815Z"
   },
   {
    "duration": 278,
    "start_time": "2023-02-19T09:48:32.850Z"
   },
   {
    "duration": 112,
    "start_time": "2023-02-19T09:48:33.130Z"
   },
   {
    "duration": 127,
    "start_time": "2023-02-19T09:48:33.244Z"
   },
   {
    "duration": 147,
    "start_time": "2023-02-19T09:48:33.372Z"
   },
   {
    "duration": 1048,
    "start_time": "2023-02-19T09:48:33.521Z"
   },
   {
    "duration": 83,
    "start_time": "2023-02-19T09:48:34.571Z"
   },
   {
    "duration": 70,
    "start_time": "2023-02-19T09:48:34.657Z"
   },
   {
    "duration": 85,
    "start_time": "2023-02-19T09:48:34.729Z"
   },
   {
    "duration": 6,
    "start_time": "2023-02-19T09:48:34.815Z"
   },
   {
    "duration": 19,
    "start_time": "2023-02-19T09:50:54.049Z"
   },
   {
    "duration": 16,
    "start_time": "2023-02-19T09:52:33.755Z"
   },
   {
    "duration": 1058,
    "start_time": "2023-02-19T10:07:52.596Z"
   },
   {
    "duration": 53,
    "start_time": "2023-02-19T10:07:53.656Z"
   },
   {
    "duration": 17,
    "start_time": "2023-02-19T10:07:53.711Z"
   },
   {
    "duration": 11,
    "start_time": "2023-02-19T10:07:53.729Z"
   },
   {
    "duration": 18,
    "start_time": "2023-02-19T10:07:53.743Z"
   },
   {
    "duration": 15,
    "start_time": "2023-02-19T10:07:53.763Z"
   },
   {
    "duration": 14,
    "start_time": "2023-02-19T10:07:53.780Z"
   },
   {
    "duration": 6,
    "start_time": "2023-02-19T10:07:53.795Z"
   },
   {
    "duration": 10,
    "start_time": "2023-02-19T10:07:53.803Z"
   },
   {
    "duration": 6,
    "start_time": "2023-02-19T10:07:53.815Z"
   },
   {
    "duration": 45,
    "start_time": "2023-02-19T10:07:53.823Z"
   },
   {
    "duration": 15,
    "start_time": "2023-02-19T10:07:53.870Z"
   },
   {
    "duration": 15,
    "start_time": "2023-02-19T10:07:53.888Z"
   },
   {
    "duration": 9,
    "start_time": "2023-02-19T10:07:53.906Z"
   },
   {
    "duration": 316,
    "start_time": "2023-02-19T10:07:53.917Z"
   },
   {
    "duration": 103,
    "start_time": "2023-02-19T10:07:54.234Z"
   },
   {
    "duration": 128,
    "start_time": "2023-02-19T10:07:54.339Z"
   },
   {
    "duration": 131,
    "start_time": "2023-02-19T10:07:54.469Z"
   },
   {
    "duration": 1035,
    "start_time": "2023-02-19T10:07:54.602Z"
   },
   {
    "duration": 78,
    "start_time": "2023-02-19T10:07:55.639Z"
   },
   {
    "duration": 79,
    "start_time": "2023-02-19T10:07:55.719Z"
   },
   {
    "duration": 68,
    "start_time": "2023-02-19T10:07:55.800Z"
   },
   {
    "duration": 13,
    "start_time": "2023-02-19T10:07:55.869Z"
   },
   {
    "duration": 123,
    "start_time": "2023-02-19T10:07:55.883Z"
   },
   {
    "duration": 4,
    "start_time": "2023-02-19T10:08:52.065Z"
   },
   {
    "duration": 7,
    "start_time": "2023-02-19T10:09:40.560Z"
   },
   {
    "duration": 8,
    "start_time": "2023-02-19T10:10:35.933Z"
   },
   {
    "duration": 8,
    "start_time": "2023-02-19T10:10:45.218Z"
   },
   {
    "duration": 127,
    "start_time": "2023-02-19T10:11:28.408Z"
   },
   {
    "duration": 125,
    "start_time": "2023-02-19T10:11:45.691Z"
   }
  ],
  "kernelspec": {
   "display_name": "Python 3 (ipykernel)",
   "language": "python",
   "name": "python3"
  },
  "language_info": {
   "codemirror_mode": {
    "name": "ipython",
    "version": 3
   },
   "file_extension": ".py",
   "mimetype": "text/x-python",
   "name": "python",
   "nbconvert_exporter": "python",
   "pygments_lexer": "ipython3",
   "version": "3.9.5"
  },
  "toc": {
   "base_numbering": 1,
   "nav_menu": {},
   "number_sections": true,
   "sideBar": true,
   "skip_h1_title": true,
   "title_cell": "Table of Contents",
   "title_sidebar": "Contents",
   "toc_cell": false,
   "toc_position": {},
   "toc_section_display": true,
   "toc_window_display": false
  }
 },
 "nbformat": 4,
 "nbformat_minor": 2
}
